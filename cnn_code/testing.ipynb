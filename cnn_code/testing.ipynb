{
 "cells": [
  {
   "cell_type": "code",
   "execution_count": 1,
   "metadata": {},
   "outputs": [
    {
     "name": "stderr",
     "output_type": "stream",
     "text": [
      "Using TensorFlow backend.\n"
     ]
    }
   ],
   "source": [
    "from __future__ import absolute_import, division, print_function, unicode_literals\n",
    "\n",
    "import os\n",
    "import numpy as np\n",
    "import tensorflow as tf\n",
    "import h5py\n",
    "import pandas as pd\n",
    "import seaborn as sns\n",
    "from scipy import stats\n",
    "\n",
    "from tensorflow import keras\n",
    "from tensorflow.keras import layers, models\n",
    "from tensorflow.keras.utils import to_categorical\n",
    "import matplotlib.pyplot as plt\n",
    "\n",
    "from tensorflow.keras.models import Sequential\n",
    "from tensorflow.keras.models import load_model\n",
    "from tensorflow.keras.layers import Dense, Conv1D, Flatten, Dropout, MaxPooling1D, Reshape, GlobalAveragePooling1D, GlobalMaxPooling1D\n",
    "from keras.utils import to_categorical\n",
    "\n",
    "from sklearn import metrics\n",
    "from sklearn.metrics import classification_report\n",
    "from sklearn import preprocessing"
   ]
  },
  {
   "cell_type": "markdown",
   "metadata": {},
   "source": [
    "##### Testing data"
   ]
  },
  {
   "cell_type": "code",
   "execution_count": 2,
   "metadata": {},
   "outputs": [],
   "source": [
    "def get_class_data(class_name):\n",
    "    global class_counts_test\n",
    "    \n",
    "    path_test = os.path.join(test_path, class_name)\n",
    "    class_units_test = np.fromfile(path_test, dtype=int, count=-1, sep=' ', offset=0)\n",
    "    units_test = np.split(class_units_test, class_units_test.size // 1080, 0) # 1080 = 3 sec * 360Hz\n",
    "    class_counts_test[class_name] = class_units_test.size // 1080\n",
    "\n",
    "    \n",
    "    return units_test"
   ]
  },
  {
   "cell_type": "code",
   "execution_count": 3,
   "metadata": {},
   "outputs": [
    {
     "name": "stdout",
     "output_type": "stream",
     "text": [
      "7926\n",
      "7926\n"
     ]
    }
   ],
   "source": [
    "base_path = 'C:\\\\cygwin\\\\home\\\\User\\\\1studing\\\\wfdb\\\\GettingData\\\\cnn_code'\n",
    "test_path = os.path.join(base_path, 'data_files_test')\n",
    "model_save_path = os.path.join(base_path, 'model\\\\cnn_model.h5')\n",
    "model_weights_path = os.path.join(base_path, 'model\\\\cnn_model_weights.hdf5')\n",
    "\n",
    "classes = ['N', 'LBBB', 'RBBB', 'B', 'T', 'VT', 'SVTA', 'AFIB', 'AFL', 'NOD', 'IVR', 'V']\n",
    "class_mapping = {'N': 0, 'LBBB': 1, 'RBBB': 2, 'B': 3, 'T': 4, 'VT': 5, 'SVTA': 6, 'AFIB': 7, 'AFL': 8, 'NOD': 9, 'IVR': 10, 'V': 11}\n",
    "class_counts_test = {'N': 0, 'LBBB': 0, 'RBBB': 0, 'B': 0, 'T': 0, 'VT': 0, 'SVTA': 0, 'AFIB': 0, 'AFL': 0, 'NOD': 0, 'IVR': 0, 'V': 0}\n",
    "\n",
    "X_test = []\n",
    "Y_test = []\n",
    "\n",
    "for class_i in classes:\n",
    "    class_units_test = get_class_data(class_i)\n",
    "    Y_test  += [class_mapping[class_i]] * class_counts_test[class_i]\n",
    "    X_test += class_units_test\n",
    "\n",
    "#print(len(X_test)) #test = 7926\n",
    "#print(len(Y_test)) \n"
   ]
  },
  {
   "cell_type": "markdown",
   "metadata": {},
   "source": [
    "##### Testing"
   ]
  },
  {
   "cell_type": "code",
   "execution_count": 22,
   "metadata": {},
   "outputs": [
    {
     "name": "stdout",
     "output_type": "stream",
     "text": [
      "7926/1 - 17s - loss: 2.4234 - accuracy: 0.4817\n",
      "\n",
      "Accuracy on test data: 0.48\n",
      "\n",
      "Loss on test data: 2.18\n"
     ]
    }
   ],
   "source": [
    "XX_test = np.asarray(X_test)\n",
    "YY_test = np.asarray(Y_test)\n",
    "XX_test = XX_test.astype(\"float32\")\n",
    "YY_test = YY_test.astype(\"float32\")\n",
    "\n",
    "YY_test = to_categorical(YY_test, num_classes)\n",
    "\n",
    "model_test = load_model(model_save_path)\n",
    "model_test.load_weights(model_weights_path) \n",
    "\n",
    "BATCH_SIZE = 90\n",
    "\n",
    "score = model_test.evaluate(XX_test, YY_test, batch_size = BATCH_SIZE, verbose=2)\n",
    "\n",
    "print(\"\\nAccuracy on test data: %0.2f\" % score[1])\n",
    "print(\"\\nLoss on test data: %0.2f\" % score[0])"
   ]
  },
  {
   "cell_type": "markdown",
   "metadata": {},
   "source": [
    "##### Predicting"
   ]
  },
  {
   "cell_type": "code",
   "execution_count": 23,
   "metadata": {},
   "outputs": [],
   "source": [
    "def show_confusion_matrix(validations, predictions):\n",
    "\n",
    "    matrix = metrics.confusion_matrix(validations, predictions)\n",
    "    plt.figure(figsize=(12, 12))\n",
    "    sns.heatmap(matrix,\n",
    "                cmap=\"coolwarm\",\n",
    "                linecolor='white',\n",
    "                linewidths=1,\n",
    "                xticklabels=LABELS,\n",
    "                yticklabels=LABELS,\n",
    "                annot=True,\n",
    "                fmt=\"d\")\n",
    "    plt.title(\"Confusion Matrix\")\n",
    "    plt.ylabel(\"True Label\")\n",
    "    plt.xlabel(\"Predicted Label\")\n",
    "    plt.show()"
   ]
  },
  {
   "cell_type": "code",
   "execution_count": 24,
   "metadata": {},
   "outputs": [
    {
     "data": {
      "image/png": "[encoded data removed]",
      "text/plain": [
       "<Figure size 864x864 with 2 Axes>"
      ]
     },
     "metadata": {
      "needs_background": "light"
     },
     "output_type": "display_data"
    },
    {
     "name": "stdout",
     "output_type": "stream",
     "text": [
      "\n",
      "--- Classification report for test data ---\n",
      "\n",
      "              precision    recall  f1-score   support\n",
      "\n",
      "           0       0.08      1.00      0.15         1\n",
      "        3818       0.00      0.00      0.00         1\n",
      "        4810       0.00      0.00      0.00         1\n",
      "        5736       0.00      0.00      0.00         1\n",
      "        6153       0.00      0.00      0.00         1\n",
      "        6334       0.00      0.00      0.00         1\n",
      "        6350       0.00      0.00      0.00         1\n",
      "        6368       0.00      0.00      0.00         1\n",
      "        7654       0.00      0.00      0.00         1\n",
      "        7828       0.00      0.00      0.00         1\n",
      "        7871       0.00      0.00      0.00         1\n",
      "        7909       0.00      0.00      0.00         1\n",
      "\n",
      "    accuracy                           0.08        12\n",
      "   macro avg       0.01      0.08      0.01        12\n",
      "weighted avg       0.01      0.08      0.01        12\n",
      "\n"
     ]
    },
    {
     "name": "stderr",
     "output_type": "stream",
     "text": [
      "C:\\Users\\User\\Anaconda3\\envs\\course_work\\lib\\site-packages\\sklearn\\metrics\\_classification.py:1268: UndefinedMetricWarning: Precision and F-score are ill-defined and being set to 0.0 in labels with no predicted samples. Use `zero_division` parameter to control this behavior.\n",
      "  _warn_prf(average, modifier, msg_start, len(result))\n"
     ]
    }
   ],
   "source": [
    "#print(\"\\n--- Confusion matrix for test data ---\\n\")\n",
    "\n",
    "Y_pred_test = model_test.predict(XX_test)\n",
    "# Take the class with the highest probability from the test predictions\n",
    "max_Y_pred_test = np.argmax(Y_pred_test, axis=0)\n",
    "max_Y_test = np.argmax(YY_test, axis=0)\n",
    "\n",
    "LABELS = [\"N\", \"LBBB\", \"RBBB\", \"B\", \"T\", \"VT\", \"SVTA\", \"AFIB\", \"AFL\", \"NOD\", \"IVR\", \"V\"]\n",
    "\n",
    "show_confusion_matrix(max_Y_test, max_Y_pred_test)\n",
    "\n",
    "# %%\n",
    "\n",
    "print(\"\\n--- Classification report for test data ---\\n\")\n",
    "\n",
    "print(classification_report(max_Y_test, max_Y_pred_test))"
   ]
  },
  {
   "cell_type": "code",
   "execution_count": null,
   "metadata": {},
   "outputs": [],
   "source": []
  }
 ],
 "metadata": {
  "kernelspec": {
   "display_name": "Python 3",
   "language": "python",
   "name": "python3"
  },
  "language_info": {
   "codemirror_mode": {
    "name": "ipython",
    "version": 3
   },
   "file_extension": ".py",
   "mimetype": "text/x-python",
   "name": "python",
   "nbconvert_exporter": "python",
   "pygments_lexer": "ipython3",
   "version": "3.6.9"
  }
 },
 "nbformat": 4,
 "nbformat_minor": 2
}
