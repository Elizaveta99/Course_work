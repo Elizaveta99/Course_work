{
 "cells": [
  {
   "cell_type": "code",
   "execution_count": 65,
   "metadata": {},
   "outputs": [],
   "source": [
    "from __future__ import absolute_import, division, print_function, unicode_literals\n",
    "\n",
    "from tensorflow import keras\n",
    "from tensorflow.keras import layers, models\n",
    "import matplotlib.pyplot as plt\n",
    "\n",
    "import os\n",
    "import numpy as np\n",
    "import tensorflow as tf\n",
    "\n",
    "from tensorflow.keras.models import Sequential\n",
    "from tensorflow.keras.layers import Dense, Conv1D, Flatten, Dropout, MaxPooling1D\n",
    " \n"
   ]
  },
  {
   "cell_type": "markdown",
   "metadata": {},
   "source": [
    "##### Data preprocessing"
   ]
  },
  {
   "cell_type": "code",
   "execution_count": 68,
   "metadata": {},
   "outputs": [],
   "source": [
    "def get_class_data(class_name):\n",
    "    global class_counts\n",
    "    \n",
    "    path = os.path.join(train_path, class_name)\n",
    "    class_units = np.fromfile(path, dtype=int, count=-1, sep=' ', offset=0)\n",
    "    units = np.split(class_units, class_units.size // 1080, 0) # 1080 = 3 sec * 360Hz\n",
    "    class_counts[class_name] = class_units.size // 1080\n",
    "    \n",
    "    return units"
   ]
  },
  {
   "cell_type": "code",
   "execution_count": 71,
   "metadata": {},
   "outputs": [
    {
     "name": "stdout",
     "output_type": "stream",
     "text": [
      "12\n"
     ]
    }
   ],
   "source": [
    "base_path = 'C:\\\\Users\\\\User\\\\Desktop\\\\1studing\\\\Курсач 3 курс\\\\course_work'\n",
    "train_path = os.path.join(base_path, 'data_files')\n",
    "\n",
    "classes = ['N', 'LBBB', 'RBBB', 'B', 'T', 'VT', 'SVTA', 'AFIB', 'AFL', 'NOD', 'IVR', 'V']\n",
    "class_mapping = {'N': 0, 'LBBB': 1, 'RBBB': 2, 'B': 3, 'T': 4, 'VT': 5, 'SVTA': 6, 'AFIB': 7, 'AFL': 8, 'NOD': 9, 'IVR': 10, 'V': 11}\n",
    "class_counts = {'N': 0, 'LBBB': 0, 'RBBB': 0, 'B': 0, 'T': 0, 'VT': 0, 'SVTA': 0, 'AFIB': 0, 'AFL': 0, 'NOD': 0, 'IVR': 0, 'V': 0}\n",
    "X = [] # data - each unit 3 sec - 1080 values\n",
    "Y = [] #labels - from class_mapping\n",
    "\n",
    "all_data = [] # 12 lists of lists for each class\n",
    "for class_i in classes:\n",
    "    class_units = get_class_data(class_i)\n",
    "    all_data.append(class_units)\n",
    "    Y  += [class_mapping[class_i]] * class_counts[class_i]\n",
    "    X += class_units\n",
    "\n",
    "#print(len(all_data)) #12\n",
    "#print(len(X)) #8079\n",
    "#print(len(Y)) #8079\n"
   ]
  },
  {
   "cell_type": "markdown",
   "metadata": {},
   "source": [
    "##### Build the model"
   ]
  },
  {
   "cell_type": "code",
   "execution_count": 62,
   "metadata": {},
   "outputs": [],
   "source": [
    "inputs = keras.Input(shape=(1080,)) # change dtype ?\n",
    "\n",
    "#print(inputs.shape) \n",
    "#print(inputs.dtype) tf.float32\n",
    "\n",
    "#model = Sequential()\n",
    "#model.add(Conv1D(32, 3, \n",
    "#          activation='relu', \n",
    "#          input_shape=(8079, 1080)))\n",
    "\n",
    "\n",
    "\n",
    "model = Sequential()\n",
    "model.add(Reshape((TIME_PERIODS, num_sensors), input_shape=(input_shape,)))\n",
    "model.add(Conv1D(100, 10, activation='relu', input_shape=(TIME_PERIODS, num_sensors)))\n",
    "model.add(Conv1D(100, 10, activation='relu'))\n",
    "model.add(MaxPooling1D(3))\n",
    "model.add(Conv1D(160, 10, activation='relu'))\n",
    "model.add(Conv1D(160, 10, activation='relu'))\n",
    "model.add(GlobalAveragePooling1D())\n",
    "model.add(Dropout(0.5))\n",
    "model.add(Dense(num_classes, activation='softmax'))\n",
    "print(model.summary())\n",
    "\n",
    "#model = keras.Model(inputs=inputs, outputs=outputs)\n",
    "\n",
    "output_weight_path = os.path.join(base_path, 'model/cnn_model.hdf5') # or \\\\ ?\n",
    "#model.load_weights(output_weight_path, by_name=True) # later - loading pretrained weights ? for testing\n",
    "model.save_weights(output_weight_path)"
   ]
  },
  {
   "cell_type": "markdown",
   "metadata": {},
   "source": [
    "##### Training"
   ]
  },
  {
   "cell_type": "code",
   "execution_count": null,
   "metadata": {},
   "outputs": [],
   "source": []
  }
 ],
 "metadata": {
  "kernelspec": {
   "display_name": "Python 3",
   "language": "python",
   "name": "python3"
  },
  "language_info": {
   "codemirror_mode": {
    "name": "ipython",
    "version": 3
   },
   "file_extension": ".py",
   "mimetype": "text/x-python",
   "name": "python",
   "nbconvert_exporter": "python",
   "pygments_lexer": "ipython3",
   "version": "3.6.9"
  }
 },
 "nbformat": 4,
 "nbformat_minor": 2
}
