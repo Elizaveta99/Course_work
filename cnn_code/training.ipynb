{
 "cells": [
  {
   "cell_type": "code",
   "execution_count": 7,
   "metadata": {},
   "outputs": [],
   "source": [
    "from __future__ import absolute_import, division, print_function, unicode_literals\n",
    "\n",
    "import os\n",
    "import numpy as np\n",
    "import tensorflow as tf\n",
    "import h5py\n",
    "\n",
    "from tensorflow import keras\n",
    "from tensorflow.keras import layers, models\n",
    "from tensorflow.keras.utils import to_categorical\n",
    "import matplotlib.pyplot as plt\n",
    "\n",
    "from tensorflow.keras.models import Sequential\n",
    "from tensorflow.keras.models import load_model\n",
    "from tensorflow.keras.layers import Dense, Conv1D, Flatten, Dropout, MaxPooling1D, Reshape, GlobalAveragePooling1D, GlobalMaxPooling1D\n",
    "from keras.utils import to_categorical"
   ]
  },
  {
   "cell_type": "markdown",
   "metadata": {},
   "source": [
    "##### Training data"
   ]
  },
  {
   "cell_type": "code",
   "execution_count": 8,
   "metadata": {},
   "outputs": [],
   "source": [
    "def feature_normalize(dataset):\n",
    "\n",
    "    mu = np.mean(dataset)\n",
    "    sigma = np.std(dataset)\n",
    "    \n",
    "    return (dataset - mu) / sigma"
   ]
  },
  {
   "cell_type": "code",
   "execution_count": 9,
   "metadata": {},
   "outputs": [],
   "source": [
    "def get_class_data(class_name):\n",
    "    global class_counts\n",
    "    \n",
    "    path = os.path.join(train_path, class_name)\n",
    "    class_units = np.fromfile(path, dtype=int, count=-1, sep=' ', offset=0)\n",
    "    units = np.split(class_units, class_units.size // 1080, 0) # 1080 = 3 sec * 360Hz\n",
    "    class_counts[class_name] = class_units.size // 1080\n",
    "   \n",
    "    return units"
   ]
  },
  {
   "cell_type": "code",
   "execution_count": 10,
   "metadata": {},
   "outputs": [],
   "source": [
    "base_path = 'C:\\\\cygwin\\\\home\\\\User\\\\1studing\\\\wfdb\\\\GettingData\\\\cnn_code'\n",
    "model_save_path = os.path.join(base_path, 'model\\\\cnn_model.h5') \n",
    "model_weights_path = os.path.join(base_path, 'model\\\\cnn_model_weights.hdf5')\n",
    "train_path = os.path.join(base_path, 'data_files')\n",
    "\n",
    "classes = ['N', 'LBBB', 'RBBB', 'B', 'T', 'VT', 'SVTA', 'AFIB', 'AFL', 'NOD', 'IVR', 'V']\n",
    "class_mapping = {'N': 0, 'LBBB': 1, 'RBBB': 2, 'B': 3, 'T': 4, 'VT': 5, 'SVTA': 6, 'AFIB': 7, 'AFL': 8, 'NOD': 9, 'IVR': 10, 'V': 11}\n",
    "class_counts = {'N': 0, 'LBBB': 0, 'RBBB': 0, 'B': 0, 'T': 0, 'VT': 0, 'SVTA': 0, 'AFIB': 0, 'AFL': 0, 'NOD': 0, 'IVR': 0, 'V': 0}\n",
    "\n",
    "X_train = [] # data - each unit 3 sec - 1080 values\n",
    "Y_train = [] #labels - from class_mapping\n",
    "\n",
    "for class_i in classes:\n",
    "    class_units = get_class_data(class_i)\n",
    "    Y_train  += [class_mapping[class_i]] * class_counts[class_i]\n",
    "    X_train += class_units\n",
    "\n",
    "#print(len(X_train)) #8079\n",
    "#print(len(Y_train)) #8079\n",
    "\n",
    "#print(X_train)"
   ]
  },
  {
   "cell_type": "markdown",
   "metadata": {},
   "source": [
    "##### Building the model"
   ]
  },
  {
   "cell_type": "code",
   "execution_count": 11,
   "metadata": {},
   "outputs": [
    {
     "name": "stdout",
     "output_type": "stream",
     "text": [
      "Model: \"sequential_1\"\n",
      "_________________________________________________________________\n",
      "Layer (type)                 Output Shape              Param #   \n",
      "=================================================================\n",
      "reshape_1 (Reshape)          (None, 1080, 1)           0         \n",
      "_________________________________________________________________\n",
      "conv1d_4 (Conv1D)            (None, 1071, 100)         1100      \n",
      "_________________________________________________________________\n",
      "conv1d_5 (Conv1D)            (None, 1062, 100)         100100    \n",
      "_________________________________________________________________\n",
      "max_pooling1d_1 (MaxPooling1 (None, 354, 100)          0         \n",
      "_________________________________________________________________\n",
      "conv1d_6 (Conv1D)            (None, 345, 160)          160160    \n",
      "_________________________________________________________________\n",
      "conv1d_7 (Conv1D)            (None, 336, 160)          256160    \n",
      "_________________________________________________________________\n",
      "global_average_pooling1d_1 ( (None, 160)               0         \n",
      "_________________________________________________________________\n",
      "dense_2 (Dense)              (None, 160)               25760     \n",
      "_________________________________________________________________\n",
      "dropout_1 (Dropout)          (None, 160)               0         \n",
      "_________________________________________________________________\n",
      "dense_3 (Dense)              (None, 12)                1932      \n",
      "=================================================================\n",
      "Total params: 545,212\n",
      "Trainable params: 545,212\n",
      "Non-trainable params: 0\n",
      "_________________________________________________________________\n",
      "None\n"
     ]
    }
   ],
   "source": [
    "TIME_PERIODS = 1080\n",
    "\n",
    "num_classes = 12\n",
    "input_shape = None\n",
    "\n",
    "model = Sequential()\n",
    "model.add(Reshape((TIME_PERIODS, 1), input_shape=(input_shape,)))  \n",
    "model.add(Conv1D(100, 10, activation='relu', input_shape=(TIME_PERIODS, 1))) # n_timesteps,n_features  OK\n",
    "model.add(Conv1D(100, 10, activation='relu')) \n",
    "#model.add(Dropout(0.5))\n",
    "#model.add(Conv1D(100, 10, activation='relu'))\n",
    "model.add(MaxPooling1D(3))\n",
    "model.add(Conv1D(160, 10, activation='relu'))\n",
    "#model.add(Dropout(0.3))\n",
    "model.add(Conv1D(160, 10, activation='relu'))\n",
    "#model.add(Dropout(0.5))\n",
    "model.add(GlobalAveragePooling1D())\n",
    "#model.add(GlobalMaxPooling1D())\n",
    "model.add(Dense(160, activation='relu'))\n",
    "model.add(Dropout(0.5))\n",
    "model.add(Dense(num_classes, activation='softmax'))\n",
    "\n",
    "model.compile(loss='categorical_crossentropy',\n",
    "                optimizer='adam', metrics=['accuracy'])\n",
    "\n",
    "print(model.summary())\n",
    "\n",
    "model.save(model_save_path)"
   ]
  },
  {
   "cell_type": "markdown",
   "metadata": {},
   "source": [
    "##### Training"
   ]
  },
  {
   "cell_type": "code",
   "execution_count": 12,
   "metadata": {},
   "outputs": [
    {
     "name": "stdout",
     "output_type": "stream",
     "text": [
      "\n",
      "--- Fit the model ---\n",
      "\n",
      "Train on 8079 samples\n",
      "Epoch 1/10\n",
      "8079/8079 [==============================] - 245s 30ms/sample - loss: 1.1941 - accuracy: 0.6320\n",
      "Epoch 2/10\n",
      "8079/8079 [==============================] - 256s 32ms/sample - loss: 0.7017 - accuracy: 0.7783\n",
      "Epoch 3/10\n",
      "8079/8079 [==============================] - 234s 29ms/sample - loss: 0.4325 - accuracy: 0.8768\n",
      "Epoch 4/10\n",
      "8079/8079 [==============================] - 200s 25ms/sample - loss: 0.3288 - accuracy: 0.9059\n",
      "Epoch 5/10\n",
      "8079/8079 [==============================] - 240s 30ms/sample - loss: 0.2595 - accuracy: 0.9186\n",
      "Epoch 6/10\n",
      "8079/8079 [==============================] - 237s 29ms/sample - loss: 0.2315 - accuracy: 0.9270\n",
      "Epoch 7/10\n",
      "8079/8079 [==============================] - 236s 29ms/sample - loss: 0.2036 - accuracy: 0.9313\n",
      "Epoch 8/10\n",
      "8079/8079 [==============================] - 231s 29ms/sample - loss: 0.1977 - accuracy: 0.9343\n",
      "Epoch 9/10\n",
      "8079/8079 [==============================] - 243s 30ms/sample - loss: 0.1787 - accuracy: 0.9402\n",
      "Epoch 10/10\n",
      "8079/8079 [==============================] - 209s 26ms/sample - loss: 0.1598 - accuracy: 0.9419\n",
      "\n",
      "--- Learning curve of model training ---\n",
      "\n"
     ]
    },
    {
     "data": {
      "image/png": "[encoded data removed]",
      "text/plain": [
       "<Figure size 1440x720 with 1 Axes>"
      ]
     },
     "metadata": {
      "needs_background": "light"
     },
     "output_type": "display_data"
    }
   ],
   "source": [
    "XX_train = np.asarray(X_train)\n",
    "YY_train = np.asarray(Y_train)\n",
    "XX_train = XX_train.astype(\"float32\")\n",
    "YY_train = YY_train.astype(\"float32\")\n",
    "\n",
    "XXX_train = feature_normalize(XX_train)\n",
    "\n",
    "YY_train = to_categorical(YY_train, num_classes)\n",
    "\n",
    "print(\"\\n--- Fit the model ---\\n\")\n",
    "\n",
    "# Hyper-parameters\n",
    "BATCH_SIZE = 20\n",
    "EPOCHS = 10\n",
    "\n",
    "history = model.fit(XXX_train,\n",
    "                      YY_train,\n",
    "                      batch_size=BATCH_SIZE,\n",
    "                      epochs=EPOCHS,\n",
    "                      verbose=1)  \n",
    "\n",
    "model.save_weights(model_weights_path)\n",
    "\n",
    "\n",
    "print(\"\\n--- Learning curve of model training ---\\n\")\n",
    "\n",
    "# summarize history for accuracy and loss\n",
    "plt.figure(figsize=(20, 10)) \n",
    "plt.plot(history.history['accuracy'], \"g--\", label=\"Accuracy of training data\")\n",
    "plt.plot(history.history['loss'], \"r--\", label=\"Loss of training data\")\n",
    "plt.title('Model Accuracy and Loss')\n",
    "plt.ylabel('Accuracy and Loss')\n",
    "plt.xlabel('Training Epoch')\n",
    "plt.ylim(0)\n",
    "plt.legend()\n",
    "plt.show()\n",
    "#model.save(model_save_path)"
   ]
  },
  {
   "cell_type": "code",
   "execution_count": null,
   "metadata": {},
   "outputs": [],
   "source": []
  }
 ],
 "metadata": {
  "kernelspec": {
   "display_name": "Python 3",
   "language": "python",
   "name": "python3"
  },
  "language_info": {
   "codemirror_mode": {
    "name": "ipython",
    "version": 3
   },
   "file_extension": ".py",
   "mimetype": "text/x-python",
   "name": "python",
   "nbconvert_exporter": "python",
   "pygments_lexer": "ipython3",
   "version": "3.6.9"
  }
 },
 "nbformat": 4,
 "nbformat_minor": 2
}
