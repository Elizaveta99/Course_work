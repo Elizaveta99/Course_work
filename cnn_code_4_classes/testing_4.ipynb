{
 "cells": [
  {
   "cell_type": "code",
   "execution_count": 127,
   "metadata": {},
   "outputs": [],
   "source": [
    "from __future__ import absolute_import, division, print_function, unicode_literals\n",
    "\n",
    "import os\n",
    "import numpy as np\n",
    "import tensorflow as tf\n",
    "import h5py\n",
    "import pandas as pd\n",
    "import seaborn as sns\n",
    "from scipy import stats\n",
    "\n",
    "from tensorflow import keras\n",
    "from tensorflow.keras import layers, models\n",
    "from tensorflow.keras.utils import to_categorical\n",
    "import matplotlib.pyplot as plt\n",
    "\n",
    "from tensorflow.keras.models import Sequential\n",
    "from tensorflow.keras.models import load_model\n",
    "from tensorflow.keras.layers import Dense, Conv1D, Flatten, Dropout, MaxPooling1D, Reshape, GlobalAveragePooling1D, GlobalMaxPooling1D\n",
    "from keras.utils import to_categorical\n",
    "\n",
    "from sklearn import metrics\n",
    "from sklearn.metrics import classification_report\n",
    "from sklearn import preprocessing"
   ]
  },
  {
   "cell_type": "code",
   "execution_count": 128,
   "metadata": {},
   "outputs": [],
   "source": [
    "def get_class_data(class_name):\n",
    "    global class_counts_test\n",
    "    \n",
    "    path_test = os.path.join(test_path, class_name)\n",
    "    class_units_test = np.fromfile(path_test, dtype=int, count=-1, sep=' ', offset=0)\n",
    "    units_test = np.array_split(class_units_test, class_units_test.size // 1080, 0) # 1080 = 3 sec * 360Hz\n",
    "    class_counts_test[class_name] = class_units_test.size // 1080\n",
    "    \n",
    "    return units_test"
   ]
  },
  {
   "cell_type": "code",
   "execution_count": 129,
   "metadata": {},
   "outputs": [],
   "source": [
    "def feature_normalize(dataset):\n",
    "\n",
    "    mu = np.mean(dataset)\n",
    "    sigma = np.std(dataset)\n",
    "    \n",
    "    return (dataset - mu) / sigma"
   ]
  },
  {
   "cell_type": "code",
   "execution_count": 140,
   "metadata": {
    "tags": [
     "outputPrepend"
    ]
   },
   "outputs": [],
   "source": [
    "base_path = 'C:\\\\Users\\\\Professional\\\\Desktop\\\\1studing\\\\CourseWork3\\\\course_work_app\\\\Course_work\\\\cnn_code_4_classes'\n",
    "test_path = os.path.join(base_path, 'data_files_test_4')\n",
    "model_save_path = os.path.join(base_path, 'model\\\\cnn_model.h5')\n",
    "model_weights_path = os.path.join(base_path, 'model\\\\cnn_model_weights.hdf5')\n",
    "\n",
    "classes = ['N', 'RBBB', 'B', 'AFIB']\n",
    "class_mapping = {'N': 0, 'RBBB': 1, 'B': 2, 'AFIB': 3}\n",
    "class_counts_test = {'N': 0, 'RBBB': 0, 'B': 0, 'AFIB': 0}\n",
    "\n",
    "X_test = []\n",
    "Y_test = []\n",
    "XXXX_test = []\n",
    "YYYY_test = []\n",
    "\n",
    "for class_i in classes:\n",
    "    class_units_test = get_class_data(class_i)\n",
    "    Y_test  += [class_mapping[class_i]] * class_counts_test[class_i]\n",
    "    X_test += class_units_test\n",
    "\n",
    "    XX_temp = []\n",
    "    XX_temp = np.asarray(X_test)\n",
    "\n",
    "    YY_temp = []\n",
    "    YY_temp = np.asarray(Y_test)\n",
    "\n",
    "    XXX_temp = []\n",
    "    YYY_temp = []\n",
    "\n",
    "    XXX_temp = np.array(XXX_temp)\n",
    "    YYY_temp = np.array(YYY_temp)\n",
    "    if class_i == 'RBBB':\n",
    "        XXX_temp = XX_temp[:-2]\n",
    "        YYY_temp = YY_temp[:-2]\n",
    "    else:\n",
    "        if class_i == 'AFIB':\n",
    "            XXX_temp = XX_temp[:-1]\n",
    "            YYY_temp = YY_temp[:-1]\n",
    "        else:\n",
    "            XXX_temp = XX_temp\n",
    "            YYY_temp = YY_temp\n",
    "\n",
    "    X_temp = []\n",
    "    X_temp = XXX_temp.tolist()\n",
    "    XXXX_test += X_temp\n",
    "    Y_temp = []\n",
    "    Y_temp = YYY_temp.tolist()\n",
    "    YYYY_test += Y_temp\n",
    "\n",
    "\n",
    "XXXX_test = np.asarray(XXXX_test) \n",
    "YYYY_test = np.asarray(YYYY_test)\n",
    "XX_test = XXXX_test.astype(\"float32\")\n",
    "YY_test = YYYY_test.astype(\"float32\")\n",
    "\n",
    "#print(len(XX_test)) # 5216\n",
    "#print(len(YY_test))\n",
    "\n",
    "XXX_test = feature_normalize(XX_test)\n",
    "\n",
    "num_classes = 4\n",
    "YYY_test = to_categorical(YY_test, num_classes)\n"
   ]
  },
  {
   "cell_type": "code",
   "execution_count": 141,
   "metadata": {},
   "outputs": [
    {
     "output_type": "stream",
     "name": "stdout",
     "text": "5216/5216 - 15s - loss: 4.5484 - accuracy: 0.5318\n\nAccuracy on test data: 0.53\n\nLoss on test data: 4.55\n"
    }
   ],
   "source": [
    "model_test = load_model(model_save_path)\n",
    "model_test.load_weights(model_weights_path) \n",
    "\n",
    "BATCH_SIZE = 32\n",
    "\n",
    "score = model_test.evaluate(XXX_test, YYY_test, batch_size = BATCH_SIZE, verbose=2)\n",
    "\n",
    "print(\"\\nAccuracy on test data: %0.2f\" % score[1])\n",
    "print(\"\\nLoss on test data: %0.2f\" % score[0])"
   ]
  },
  {
   "cell_type": "code",
   "execution_count": 11,
   "metadata": {},
   "outputs": [],
   "source": [
    "def show_confusion_matrix(validations, predictions):\n",
    "\n",
    "    matrix = metrics.confusion_matrix(validations, predictions)\n",
    "    plt.figure(figsize=(4, 4))\n",
    "    sns.heatmap(matrix,\n",
    "                cmap=\"coolwarm\",\n",
    "                linecolor='white',\n",
    "                linewidths=1,\n",
    "                xticklabels=LABELS,\n",
    "                yticklabels=LABELS,\n",
    "                annot=True,\n",
    "                fmt=\"d\")\n",
    "    plt.title(\"Confusion Matrix\")\n",
    "    plt.ylabel(\"True Label\")\n",
    "    plt.xlabel(\"Predicted Label\")\n",
    "    plt.show()"
   ]
  },
  {
   "cell_type": "code",
   "execution_count": 13,
   "metadata": {},
   "outputs": [
    {
     "name": "stdout",
     "output_type": "stream",
     "text": [
      "\n",
      "--- Confusion matrix for test data ---\n",
      "\n"
     ]
    },
    {
     "data": {
      "image/png": "[encoded data removed]",
      "text/plain": [
       "<Figure size 288x288 with 2 Axes>"
      ]
     },
     "metadata": {
      "needs_background": "light"
     },
     "output_type": "display_data"
    }
   ],
   "source": [
    "print(\"\\n--- Confusion matrix for test data ---\\n\")\n",
    "\n",
    "LABELS = [\"N\", \"RBBB\", \"B\", \"AFIB\"]\n",
    "\n",
    "Y_pred_test = model_test.predict(XXX_test)\n",
    "\n",
    "max_Y_pred_test = np.argmax(Y_pred_test, axis=1)\n",
    "max_Y_test = np.argmax(YYY_test, axis=1)\n",
    "\n",
    "show_confusion_matrix(max_Y_test, max_Y_pred_test)"
   ]
  },
  {
   "cell_type": "code",
   "execution_count": 16,
   "metadata": {},
   "outputs": [
    {
     "name": "stdout",
     "output_type": "stream",
     "text": [
      "\n",
      "--- Confusion matrix for test data ---\n",
      "\n",
      "[[1. 0. 0. 0.]\n",
      " [1. 0. 0. 0.]\n",
      " [1. 0. 0. 0.]\n",
      " [1. 0. 0. 0.]\n",
      " [0. 1. 0. 0.]\n",
      " [0. 1. 0. 0.]\n",
      " [0. 0. 1. 0.]\n",
      " [0. 0. 0. 1.]\n",
      " [0. 0. 0. 1.]\n",
      " [0. 0. 0. 1.]]\n",
      "--------------\n",
      "[0 0 0 0 1 1 2 3 3 3]\n",
      "--------------\n",
      "[0 0 0 0 2 3 3 0 2 0]\n"
     ]
    },
    {
     "data": {
      "image/png": "[encoded data removed]",
      "text/plain": [
       "<Figure size 288x288 with 2 Axes>"
      ]
     },
     "metadata": {
      "needs_background": "light"
     },
     "output_type": "display_data"
    }
   ],
   "source": [
    "print(\"\\n--- Confusion matrix for test data ---\\n\")\n",
    "\n",
    "temp_rand = np.arange(2025)\n",
    "##temp_rand = np.arange(7926)\n",
    "\n",
    "#np.random.shuffle(temp_rand)\n",
    "#temp_part_rand = temp_rand[:10]\n",
    "temp_part_rand = temp_rand[np.array([0,200,400,600,800,1000,1200,1400,1600,2024])]\n",
    "##temp_part_rand = temp_rand[np.array([0,1000,2000,3000,4000,5000,6000,7000,2500,7920])]\n",
    "\n",
    "\n",
    "XXX_part_test = XXX_test[temp_part_rand, :1080]\n",
    "Y_part_test = YYY_test[temp_part_rand]\n",
    "##Y_part_test = YY_test[temp_part_rand]\n",
    "\n",
    "Y_part_pred_test = model_test.predict(XXX_part_test)\n",
    "\n",
    "max_Y_part_pred_test = np.argmax(Y_part_pred_test, axis=1)\n",
    "max_Y_part_test = np.argmax(Y_part_test, axis=1)\n",
    "\n",
    "print(Y_part_test)\n",
    "print('--------------')\n",
    "print(max_Y_part_test)\n",
    "print('--------------')\n",
    "print(max_Y_part_pred_test)\n",
    "\n",
    "show_confusion_matrix(max_Y_part_test, max_Y_part_pred_test)"
   ]
  },
  {
   "cell_type": "code",
   "execution_count": null,
   "metadata": {},
   "outputs": [],
   "source": []
  }
 ],
 "metadata": {
  "kernelspec": {
   "display_name": "Python 3",
   "language": "python",
   "name": "python3"
  },
  "language_info": {
   "codemirror_mode": {
    "name": "ipython",
    "version": 3
   },
   "file_extension": ".py",
   "mimetype": "text/x-python",
   "name": "python",
   "nbconvert_exporter": "python",
   "pygments_lexer": "ipython3",
   "version": "3.6.8-final"
  }
 },
 "nbformat": 4,
 "nbformat_minor": 2
}